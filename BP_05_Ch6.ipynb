{
  "nbformat": 4,
  "nbformat_minor": 0,
  "metadata": {
    "colab": {
      "provenance": [],
      "authorship_tag": "ABX9TyPfHdIjg3yfWJ+ivqoDCTFZ",
      "include_colab_link": true
    },
    "kernelspec": {
      "name": "python3",
      "display_name": "Python 3"
    },
    "language_info": {
      "name": "python"
    }
  },
  "cells": [
    {
      "cell_type": "markdown",
      "metadata": {
        "id": "view-in-github",
        "colab_type": "text"
      },
      "source": [
        "<a href=\"https://colab.research.google.com/github/parkdongseop/BP_05_Ch6/blob/main/BP_05_Ch6.ipynb\" target=\"_parent\"><img src=\"https://colab.research.google.com/assets/colab-badge.svg\" alt=\"Open In Colab\"/></a>"
      ]
    },
    {
      "cell_type": "markdown",
      "source": [
        "1. 2부터 100사이까지 모든 짝수를 출력하는 반복 루프를 작성한다."
      ],
      "metadata": {
        "id": "lGzhB-zHl___"
      }
    },
    {
      "cell_type": "code",
      "execution_count": 1,
      "metadata": {
        "colab": {
          "base_uri": "https://localhost:8080/"
        },
        "id": "hvm4oSYxk390",
        "outputId": "c7adc77a-6ed6-406b-b2c2-3e64195228c8"
      },
      "outputs": [
        {
          "output_type": "stream",
          "name": "stdout",
          "text": [
            "2 4 6 8 10 12 14 16 18 20 22 24 26 28 30 32 34 36 38 40 42 44 46 48 50 52 54 56 58 60 62 64 66 68 70 72 74 76 78 80 82 84 86 88 90 92 94 96 98 100 "
          ]
        }
      ],
      "source": [
        "for i in range(2,101,2):\n",
        "    print(i, end=\" \")"
      ]
    },
    {
      "cell_type": "markdown",
      "source": [
        "2. 어떤 사람이 복리이자율 7%로 1000만원을 저금했을 경우에 2000만원이 되는데 몇 년이 걸리는지 계산하기 위하여 다음과 코드를 작성하였다. 잘못된 점은 없는지 체크해 보자.\n",
        "\n",
        "year = 0\n",
        "balance = 1000\n",
        "while balance >= 2000:\n",
        "    year = year + 1\n",
        "    interest = balance * 0.07\n",
        "    balance = balance + interest\n",
        "print(year, \"년이 걸립니다.\")"
      ],
      "metadata": {
        "id": "Zi7bQpMMn8NK"
      }
    },
    {
      "cell_type": "code",
      "source": [
        "year = 0\n",
        "balance = 1000\n",
        " \n",
        "while balance >= 2000 :\n",
        "    year = year + 1\n",
        "    interest = balance * 0.07\n",
        "    balance = balance + interest\n",
        "print(year, \"년 걸립니다.\")"
      ],
      "metadata": {
        "colab": {
          "base_uri": "https://localhost:8080/"
        },
        "id": "2lzBjiPeouuK",
        "outputId": "59be6a3a-0c7b-48fd-a276-b7f05cc416d4"
      },
      "execution_count": null,
      "outputs": [
        {
          "output_type": "stream",
          "name": "stdout",
          "text": [
            "0 년 걸립니다.\n"
          ]
        }
      ]
    },
    {
      "cell_type": "code",
      "source": [
        "year = 0\n",
        "balance = 1000\n",
        " \n",
        "while balance <= 2000 :\n",
        "    year = year + 1\n",
        "    interest = balance * 0.07\n",
        "    balance = balance + interest\n",
        "print(year, \"년 걸립니다.\")"
      ],
      "metadata": {
        "colab": {
          "base_uri": "https://localhost:8080/"
        },
        "outputId": "a97a49c0-b5d4-41c7-fab8-d4f98bbfdcaf",
        "id": "GcnwQ1lUDOYx"
      },
      "execution_count": null,
      "outputs": [
        {
          "output_type": "stream",
          "name": "stdout",
          "text": [
            "11 년 걸립니다.\n"
          ]
        }
      ]
    },
    {
      "cell_type": "markdown",
      "source": [
        "4행의 while balance>=2000을 while balance<=2000으로 바꿔 주어야 한다."
      ],
      "metadata": {
        "id": "cLWaxu-hrzaD"
      }
    },
    {
      "cell_type": "markdown",
      "source": [
        "3. 다음 코드의 출력을 예상해보자. 각 단계에서 변수의 값을 예상해보시오.\n",
        "\n",
        "n = 1234\n",
        "sum = 0\n",
        "while n > 0:\n",
        "    digit = n %10\n",
        "    sum = sum + digit\n",
        "    n = n // 10\n",
        "print(sum)"
      ],
      "metadata": {
        "id": "9Qv7tTN9ovOO"
      }
    },
    {
      "cell_type": "code",
      "source": [
        "n = 1234\n",
        "sum = 0\n",
        "while n > 0:\n",
        "    digit = n %10\n",
        "    sum = sum + digit\n",
        "    n = n // 10 # 파이썬 // 연산자: 나누기 연산 후 소수점 이하를 버리고, 정수 부분의 수만 구함\n",
        "print(sum)"
      ],
      "metadata": {
        "colab": {
          "base_uri": "https://localhost:8080/"
        },
        "id": "7EIQ7aF7pET7",
        "outputId": "d56b31a9-762f-481a-990a-4edbdc7fc75b"
      },
      "execution_count": null,
      "outputs": [
        {
          "output_type": "stream",
          "name": "stdout",
          "text": [
            "10\n"
          ]
        }
      ]
    },
    {
      "cell_type": "markdown",
      "source": [
        "다음코드의 출력: 1+2+3+4=10 \n",
        "각 단계에서 변수의 값:\n",
        "digit=4, sum=4, n=123\n",
        "digit=3, sum=7, n=12\n",
        "digit=2, sum=9, n=1\n",
        "digit=1, sum=10, n=0\n"
      ],
      "metadata": {
        "id": "t_KelXtHEUqF"
      }
    },
    {
      "cell_type": "markdown",
      "source": [
        "4. 사용자에게 곱셈 퀴즈를 내고 답을 사용자로부터 받는 프로그램에서 사용자가 올바른 답을 입력할 때까지 반복하도록 수정하여 보자."
      ],
      "metadata": {
        "id": "c7ymScY-pE3N"
      }
    },
    {
      "cell_type": "code",
      "source": [
        "import random\n",
        " \n",
        "a = random.randint(1,10) #a,b를 1,10사이 값을 랜덤으로 받아온다.\n",
        "b = random.randint(1,10)\n",
        "com = a*b\n",
        " \n",
        "while True:\n",
        "    usr = int(input(str(a) + \"*\" + str(b) + \"는 \"))\n",
        "    if (usr == com):\n",
        "        print(\"맞았습니다.\")\n",
        "        break;"
      ],
      "metadata": {
        "colab": {
          "base_uri": "https://localhost:8080/"
        },
        "id": "KHSCscuuptWq",
        "outputId": "da26765c-e1b3-43b4-cf20-fc6d640ee28b"
      },
      "execution_count": null,
      "outputs": [
        {
          "output_type": "stream",
          "name": "stdout",
          "text": [
            "5*6는 30\n",
            "맞았습니다.\n"
          ]
        }
      ]
    },
    {
      "cell_type": "markdown",
      "source": [
        "5. 사용자가 입력한 정수의 합을 계산하는 프로그램을 작성하자. 사용자가 0을 입력하기 전까지 정수를 계속하여 읽도록 한다."
      ],
      "metadata": {
        "id": "_MDLn6Jept6D"
      }
    },
    {
      "cell_type": "code",
      "source": [
        "sum = 0\n",
        "while True:\n",
        "    a = int(input(\"정수를 입력하시오: \"))\n",
        "    if (a == 0):\n",
        "        print(\"합은 \", sum, \"입니다.\") #점수가 0이면 점수의 합을 출력하고 while문 탈출\n",
        "        break\n",
        " \n",
        "    sum += a"
      ],
      "metadata": {
        "colab": {
          "base_uri": "https://localhost:8080/"
        },
        "id": "di7vWOY5qNO5",
        "outputId": "28d21e07-f222-401b-e67a-0aecc0ecdbf7"
      },
      "execution_count": null,
      "outputs": [
        {
          "output_type": "stream",
          "name": "stdout",
          "text": [
            "정수를 입력하시오: 15\n",
            "정수를 입력하시오: 0\n",
            "합은  15 입니다.\n"
          ]
        }
      ]
    },
    {
      "cell_type": "markdown",
      "source": [
        "6. 난수 생성 함수를 사용하여서 2개의 주사위를 던졌을 때 나오는 수를 다음과 같이 출력하여 보자."
      ],
      "metadata": {
        "id": "qtFnBhC0qNzl"
      }
    },
    {
      "cell_type": "code",
      "source": [
        "import random\n",
        "\n",
        "count = 0\n",
        "\n",
        "while True:\n",
        "    i = random.randint(1, 7)\n",
        "    j = random.randint(1, 7)\n",
        "    print(\"첫 번째 주사위 : \", i, \"두 번째 주사위 : \", j)\n",
        "    count += 1\n",
        "    if(count == 5):\n",
        "        break"
      ],
      "metadata": {
        "colab": {
          "base_uri": "https://localhost:8080/"
        },
        "id": "PIM0jDu1qUxd",
        "outputId": "4fdacc1e-d288-4684-9e6e-6d61f770c0bd"
      },
      "execution_count": null,
      "outputs": [
        {
          "output_type": "stream",
          "name": "stdout",
          "text": [
            "첫 번째 주사위 :  6 두 번째 주사위 :  1\n",
            "첫 번째 주사위 :  1 두 번째 주사위 :  6\n",
            "첫 번째 주사위 :  1 두 번째 주사위 :  3\n",
            "첫 번째 주사위 :  4 두 번째 주사위 :  5\n",
            "첫 번째 주사위 :  7 두 번째 주사위 :  5\n"
          ]
        }
      ]
    },
    {
      "cell_type": "markdown",
      "source": [
        "7. 다음 그래픽과 반복을 사용하여 눈 모양을 그려보자."
      ],
      "metadata": {
        "id": "C4GQx5DiqVjo"
      }
    },
    {
      "cell_type": "code",
      "source": [
        "import turtle\n",
        "t = turtle.Turtle()\n",
        "t.shape(\"turtle\")\n",
        "t.color('blue','blue')\n",
        "\n",
        "count = 0\n",
        "t.lt(30)\n",
        "for i in range(7):\n",
        "    t.fd(100); t.fd(-30); t.lt(60); t.fd(30); t.fd(-30);\n",
        "    t.rt(120); t.fd(30); t.fd(-30); t.lt(60); t.fd(-70); t.lt(60); "
      ],
      "metadata": {
        "id": "H_4EoEUkqZzj"
      },
      "execution_count": null,
      "outputs": []
    },
    {
      "cell_type": "markdown",
      "source": [
        "8. 우리는 이번 장에서 터틀 그래픽으로 별을 그려보았다. 이 코드를 응용하여서 다음과 같이 10개의 별을 그리는 프로그램을 작성하라. 별들은 시작 각도가 약간씩 다르다."
      ],
      "metadata": {
        "id": "SZ0dQ4z2qdRK"
      }
    },
    {
      "cell_type": "code",
      "source": [
        "import turtle\n",
        "t = turtle.Turtle()\n",
        "t.shape(\"turtle\")\n",
        "t.color('red')\n",
        "t.hideturtle()\n",
        "for i in range(10):\n",
        "    t.forward(-100) #그림이 왼쪽에 그려지므로 -100만큼 forward한다\n",
        "    t.lt(36)\n",
        "    t.forward(100)\n",
        "    t.lt(36)\n",
        "    t.forward(-100)\n",
        "    t.lt(36)\n",
        "    t.forward(100)\n",
        "    t.lt(36)\n",
        "    t.forward(-100)\n",
        "    t.rt(134)"
      ],
      "metadata": {
        "id": "3ew7LkScqe4q"
      },
      "execution_count": null,
      "outputs": []
    },
    {
      "cell_type": "code",
      "source": [
        "import turtle\n",
        "myPen = turtle.Turtle()\n",
        "myPen.speed(0)\n",
        "myPen.color(\"#FF0000\") # #FF0000 = 16진수 웹 색 중 하나. #16진수 웹 색 = RGB를 각각 두 자리의 16진수로 표현하는 것 #RGB = 빛의 삼원색을 일정 비율로 섞어서 나타내는 것. 0~255로 각각의 색을 나타낸다.\n",
        "for j in range (1,10):\n",
        " for i in range (1,6):\n",
        " myPen.left(144)\n",
        " myPen.forward(200)\n",
        " myPen.left(10)\n"
      ],
      "metadata": {
        "id": "wBLyozXFeKMG"
      },
      "execution_count": null,
      "outputs": []
    },
    {
      "cell_type": "markdown",
      "source": [
        "9. 반복과 난수를 함께 사용하면 화면에 랜덤한 원을 그릴 수 있다. 화면에 10개의 랜덤한 원을 그리는 프로그램을 작성하라. 원의 중심과 반지름이 모두 난수이어야 한다."
      ],
      "metadata": {
        "id": "LWrwPIXnqfiO"
      }
    },
    {
      "cell_type": "code",
      "source": [
        "import random\n",
        "import turtle\n",
        "t = turtle.Turtle()\n",
        "t.shape(\"turtle\")\n",
        "\n",
        "\n",
        "for i in range(10):\n",
        "    x = random.randint(1, 100) #x1, y2, r값을 랜덤으로 불러온다.\n",
        "    y = random.randint(1, 100)\n",
        "    z = random.randint(-180, 180)\n",
        "\n",
        "    t.up()\n",
        "    t.goto(x, y)\n",
        "    t.down()\n",
        "    t.circle(z);"
      ],
      "metadata": {
        "id": "NayOm1ixqmsJ"
      },
      "execution_count": null,
      "outputs": []
    },
    {
      "cell_type": "markdown",
      "source": [
        "10. 다음과 같이 거북이를 왕복 달리기시키는 프로그램을 작성해보자."
      ],
      "metadata": {
        "id": "AHRQZQgGqw8A"
      }
    },
    {
      "cell_type": "code",
      "source": [
        "import turtle\n",
        "t = turtle.Turtle()\n",
        "t.shape(\"turtle\")\n",
        "\n",
        "count = 0\n",
        "\n",
        "while True: #계속 반복한다.\n",
        "    t.fd(200); t.rt(90); t.fd(20); t.rt(90); t.fd(200); t.lt(90); t.fd(20);\n",
        "    t.lt(90); #거북이의 한주기 이동을 표현한다.\n",
        "\n",
        "    count += 1\n",
        "\n",
        "    if(count == 7):\n",
        "        break;"
      ],
      "metadata": {
        "id": "uhOcnmpdqyCW"
      },
      "execution_count": null,
      "outputs": []
    },
    {
      "cell_type": "markdown",
      "source": [
        "11. 다음의 터틀 그래픽 프로그램을 분석해보자. 학습하지 않은 함수가 있다면 인터넷에서 조사하여 보자."
      ],
      "metadata": {
        "id": "iv8YF30Iqya3"
      }
    },
    {
      "cell_type": "code",
      "source": [
        "import turtle #turtle 함수 불러오기\n",
        "\n",
        "t = turtle.Turtle() #t에 turtle.Turtle()함수 정의\n",
        "\n",
        "t.shape(\"turtle\") #거북이 소환\n",
        "\n",
        "t.color('red', 'yellow') #(선, 내부)색상 지정\n",
        "\n",
        "t.begin_fill() #begin_fill()~ 속이 채워진 도형이 그려진다. ~end_fill()\n",
        "\n",
        "while True: #무한반복, while문 안의 블록을 반복 수행하다가 거북이의 좌표값의 절대값이 1보다 작게 되면 while문을 탈출하게 된다.\n",
        "  t.fd(200) #앞으로 200전진\n",
        "  t.lt(170) #왼쪽으로 170도 방향 전환\n",
        "  if abs(t.pos()) < 1: #거북이의 절대 위치 좌표를 구하는데 1보다 작으면 즉, 0이 되면 break문을 활용하여 종료한다. abs()함수는 절대값을 계산하는 함수이다.\n",
        "    break \n",
        "t.end_fill() #end_fill은 칠해준다."
      ],
      "metadata": {
        "id": "Flit8zmrq5a_"
      },
      "execution_count": null,
      "outputs": []
    },
    {
      "cell_type": "markdown",
      "source": [
        "12. 터틀 그래픽과 반복을 사용하여 싸인(sine) 그래프를 그려보자. 거북이를 싸인값에 따라서 움직이면 된다."
      ],
      "metadata": {
        "id": "cXrt1Wjyq7KV"
      }
    },
    {
      "cell_type": "code",
      "source": [
        "import turtle\n",
        "import math #사인 함수를 그리기 위해서 math패키지를 불러온다.\n",
        "\n",
        "t = turtle.Turtle()\n",
        "t.shape(\"turtle\")\n",
        "t.color('red','yellow')\n",
        "for i in range(360): # 사인함수 한주기를 그린다.\n",
        "    sine = math.sin(math.pi * i / 180.0)\n",
        "    print(sine)\n",
        "    t.goto(i, sine * 100) #사인함수에 맞는 좌표값으로 이동한다."
      ],
      "metadata": {
        "id": "KQrAndN_q71o"
      },
      "execution_count": null,
      "outputs": []
    }
  ]
}